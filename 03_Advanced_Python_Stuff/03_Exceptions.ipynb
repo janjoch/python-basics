{
 "cells": [
  {
   "cell_type": "code",
   "execution_count": null,
   "id": "0f9293b0-f0c6-4885-9604-f01c5f06940c",
   "metadata": {},
   "outputs": [],
   "source": []
  }
 ],
 "metadata": {
  "kernelspec": {
   "display_name": "Python 3",
   "language": "python",
   "name": "python3"
  },
  "language_info": {
   "codemirror_mode": {
    "name": "ipython",
    "version": 3
   },
   "file_extension": ".py",
   "mimetype": "text/x-python",
   "name": "python",
   "nbconvert_exporter": "python",
   "pygments_lexer": "ipython3",
   "version": "3.7.7"
  }
 },
 "nbformat": 4,
 "nbformat_minor": 5
}
