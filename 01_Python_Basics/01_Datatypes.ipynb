{
 "cells": [
  {
   "cell_type": "markdown",
   "id": "a2aa8c47-36e9-4c02-a4e9-bf59bc71f565",
   "metadata": {},
   "source": [
    "# Python Datatypes and Variables"
   ]
  },
  {
   "cell_type": "markdown",
   "id": "ca90c1d5-caec-4fc4-a11b-a5d2a478859b",
   "metadata": {},
   "source": [
    "#### Datatypes\n",
    "Everything in Python is an **object** and every object in Python has a **type**.  Python has the following data types built-in by default, in these categories:\n",
    "\n",
    "\n",
    "Text Type:\n",
    "- **`str`** (string; a sequence of characters enclosed in single quotes, double quotes, or triple quotes)\n",
    "\n",
    "\n",
    "Numeric Types:\n",
    "- **`int`** (integer; a whole number with no decimal place e.g. 10)\n",
    "- **`float`** (float; a number that has a decimal place e.g. 3.14)\n",
    "- **`complex`**\n",
    "\n",
    "\n",
    "Sequence Types:\n",
    "- **`list`**\n",
    "- **`tuple`**\n",
    "- **`range`**\n",
    "\n",
    "\n",
    "Mapping Type:\n",
    "- **`dict`**\n",
    "\n",
    "\n",
    "Set Types: \n",
    "- **`set`**\n",
    "- **`frozenset`**\n",
    "\n",
    "Boolean Type:\n",
    "- **`bool`** (boolean; a binary value that is either True or False)\n",
    "\n",
    "\n",
    "Binary Types:\n",
    "- **`bytes`**\n",
    "- **`bytearray`**\n",
    "- **`memoryview`**\n",
    "\n",
    "None Type:\n",
    "- **`NoneType`** (a special type representing the absence of a value)\n",
    "\n",
    "<hr>"
   ]
  },
  {
   "cell_type": "markdown",
   "id": "efe9dce0-a34a-4323-b033-3bfa4104bf38",
   "metadata": {},
   "source": [
    "#### Variable\n",
    "In Python, a **variable** is a name you specify in your code that maps to a particular **object**, object **instance**, or value.\n",
    "\n",
    "By defining variables, we can refer to things by names that make sense to us. Names for variables can only contain letters, underscores (`_`), or numbers (no spaces, dashes, or other characters). Variable names must start with a letter or underscore.\n",
    "\n",
    "<hr>"
   ]
  },
  {
   "cell_type": "markdown",
   "id": "7907adbb-91b8-4137-a2a1-ba2de06f7a8e",
   "metadata": {},
   "source": [
    "## `str`"
   ]
  },
  {
   "cell_type": "code",
   "execution_count": 3,
   "id": "e81b85d2-9d66-46c7-b1cb-ff26d2f30eea",
   "metadata": {},
   "outputs": [
    {
     "name": "stdout",
     "output_type": "stream",
     "text": [
      "Python is my favorite programming language! type: <class 'str'>\n"
     ]
    }
   ],
   "source": [
    "my_string = \"Python is my favorite programming language!\"\n",
    "print(my_string, f\"type: {type(my_string)}\")"
   ]
  },
  {
   "cell_type": "markdown",
   "id": "790942c8-53fb-494f-9cf6-bf65b4224209",
   "metadata": {},
   "source": [
    "#### Respecting PEP8 with long strings"
   ]
  },
  {
   "cell_type": "code",
   "execution_count": 5,
   "id": "bab1893e-6b80-483c-89e7-806f3d7e4745",
   "metadata": {},
   "outputs": [],
   "source": [
    "long_story = (\n",
    "    \"Lorem ipsum dolor sit amet, consectetur adipiscing elit.\"\n",
    "    \"Pellentesque eget tincidunt felis. Ut ac vestibulum est.\"\n",
    "    \"In sed ipsum sit amet sapien scelerisque bibendum. Sed \"\n",
    "    \"sagittis purus eu diam fermentum pellentesque.\"\n",
    ")"
   ]
  },
  {
   "cell_type": "markdown",
   "id": "4e4fd967-2ada-4034-a348-cc9a2982c2fd",
   "metadata": {},
   "source": [
    "#### `str` methods and attributes\n",
    "Different types of objects in Python have different attributes that can be referred to by name (similar to a variable). To access an attribute of an object, use a dot (.) after the object, then specify the attribute (i.e. obj.attribute)\n",
    "\n",
    "When an attribute of an object is a callable, that attribute is called a **method**. It is the same as a function, only this function is bound to a particular object.\n",
    "\n",
    "When an attribute of an object is not a callable, that attribute is called a **property**. It is just a piece of data about the object, that is itself another object.\n",
    "\n",
    "Here are some methods on `str` types:\n",
    "\n",
    "* `.capitalize()` to return a capitalized version of the string (only first char uppercase)\n",
    "* `.upper()` to return an uppercase version of the string (all chars uppercase)\n",
    "* `.lower()` to return an lowercase version of the string (all chars lowercase)\n",
    "* `.count(substring)` to return the number of occurences of the substring in the string\n",
    "* `.startswith(substring)` to determine if the string starts with the substring\n",
    "* `.endswith(substring)` to determine if the string ends with the substring\n",
    "* `.replace(old, new)` to return a copy of the string with occurences of the \"old\" replaced by \"n* `"
   ]
  },
  {
   "cell_type": "code",
   "execution_count": 8,
   "id": "d32a7708-c88c-4717-8587-2e694e87f285",
   "metadata": {},
   "outputs": [],
   "source": [
    "# Assign a string to a variable\n",
    "a_string = \"tHis is a sTriNg\""
   ]
  },
  {
   "cell_type": "code",
   "execution_count": 9,
   "id": "5ac79580-6b2d-4179-88a3-72513828599e",
   "metadata": {},
   "outputs": [
    {
     "data": {
      "text/plain": [
       "'This is a string'"
      ]
     },
     "execution_count": 9,
     "metadata": {},
     "output_type": "execute_result"
    }
   ],
   "source": [
    "# Return a capitalized version of the string\n",
    "a_string.capitalize()"
   ]
  },
  {
   "cell_type": "code",
   "execution_count": 10,
   "id": "9e6dd169-c72f-409b-85c7-b0fe8f1af246",
   "metadata": {},
   "outputs": [
    {
     "data": {
      "text/plain": [
       "'THIS IS A STRING'"
      ]
     },
     "execution_count": 10,
     "metadata": {},
     "output_type": "execute_result"
    }
   ],
   "source": [
    "# Return an uppercase version of the string\n",
    "a_string.upper()"
   ]
  },
  {
   "cell_type": "code",
   "execution_count": 11,
   "id": "c0712fd4-af5e-492d-a35f-8f5c9d1c8b55",
   "metadata": {},
   "outputs": [
    {
     "data": {
      "text/plain": [
       "'this is a string'"
      ]
     },
     "execution_count": 11,
     "metadata": {},
     "output_type": "execute_result"
    }
   ],
   "source": [
    "# Return a lowercase version of the string\n",
    "a_string.lower()"
   ]
  },
  {
   "cell_type": "code",
   "execution_count": 12,
   "id": "d63acf2e-98fe-471b-95bb-0bcdcf001669",
   "metadata": {},
   "outputs": [
    {
     "data": {
      "text/plain": [
       "'tHis is a sTriNg'"
      ]
     },
     "execution_count": 12,
     "metadata": {},
     "output_type": "execute_result"
    }
   ],
   "source": [
    "# Notice that the methods called have not actually modified the string\n",
    "a_string"
   ]
  },
  {
   "cell_type": "code",
   "execution_count": 13,
   "id": "84778373-a5bc-4a1d-9a59-e71e1068c0ef",
   "metadata": {},
   "outputs": [
    {
     "data": {
      "text/plain": [
       "3"
      ]
     },
     "execution_count": 13,
     "metadata": {},
     "output_type": "execute_result"
    }
   ],
   "source": [
    "# Count number of occurences of a substring in the string\n",
    "a_string.count(\"i\")"
   ]
  },
  {
   "cell_type": "code",
   "execution_count": 14,
   "id": "ed2313db-e0fb-4ffb-9b0b-c12aafed6e2a",
   "metadata": {},
   "outputs": [
    {
     "data": {
      "text/plain": [
       "False"
      ]
     },
     "execution_count": 14,
     "metadata": {},
     "output_type": "execute_result"
    }
   ],
   "source": [
    "# Does the string start with 'this'?\n",
    "a_string.startswith(\"this\")"
   ]
  },
  {
   "cell_type": "code",
   "execution_count": 15,
   "id": "3bd62473-97f6-4736-ae1b-a05c78197062",
   "metadata": {},
   "outputs": [
    {
     "data": {
      "text/plain": [
       "True"
      ]
     },
     "execution_count": 15,
     "metadata": {},
     "output_type": "execute_result"
    }
   ],
   "source": [
    "# Does the lowercase string start with 'this'?\n",
    "a_string.lower().startswith(\"this\")"
   ]
  },
  {
   "cell_type": "code",
   "execution_count": 16,
   "id": "1330add4-eac2-4ccb-8c6e-ef250e9417c3",
   "metadata": {},
   "outputs": [
    {
     "data": {
      "text/plain": [
       "'tHXYZ XYZ a sTriNg'"
      ]
     },
     "execution_count": 16,
     "metadata": {},
     "output_type": "execute_result"
    }
   ],
   "source": [
    "# Return a version of the string with a substring replaced with something else\n",
    "a_string.replace(\"is\", \"XYZ\")"
   ]
  },
  {
   "cell_type": "code",
   "execution_count": 22,
   "id": "a3995f26-bfd8-4f0c-bb3b-042cdb116da6",
   "metadata": {},
   "outputs": [
    {
     "name": "stdout",
     "output_type": "stream",
     "text": [
      "this looks good\n"
     ]
    }
   ],
   "source": [
    "ugly_mixed_case = \"   ThIS LooKs BAd \"\n",
    "pretty = ugly_mixed_case.strip().lower().replace(\"bad\", \"good\")\n",
    "print(pretty)"
   ]
  },
  {
   "cell_type": "code",
   "execution_count": 23,
   "id": "90681125-6658-49fd-9dcd-0ce91eee9277",
   "metadata": {},
   "outputs": [
    {
     "name": "stdout",
     "output_type": "stream",
     "text": [
      "First line\n",
      "Second line\n"
     ]
    }
   ],
   "source": [
    "two_lines = \"First line\\nSecond line\"\n",
    "print(two_lines)"
   ]
  },
  {
   "cell_type": "markdown",
   "id": "f1755644-cacc-4791-b69e-290e4f103891",
   "metadata": {},
   "source": [
    "## `int`"
   ]
  },
  {
   "cell_type": "code",
   "execution_count": 17,
   "id": "6183106d-fb63-4c28-8cba-85ebc80dc5b1",
   "metadata": {},
   "outputs": [
    {
     "name": "stdout",
     "output_type": "stream",
     "text": [
      "1st value: 6, type: <class 'int'>\n",
      "1st value: 5, type: <class 'int'>\n"
     ]
    }
   ],
   "source": [
    "my_int = 6\n",
    "print(f\"1st value: {my_int}, type: {type(my_int)}\")\n",
    "\n",
    "my_2nd_int = int(5.38)\n",
    "print(f\"2st value: {my_2nd_int}, type: {type(my_2nd_int)}\")"
   ]
  },
  {
   "cell_type": "markdown",
   "id": "7ea840a8-cdfb-49e4-82e0-eb788adc9085",
   "metadata": {},
   "source": [
    "## `float`"
   ]
  },
  {
   "cell_type": "code",
   "execution_count": 5,
   "id": "fdf2f78a-9455-4ed8-a41e-e36dc9b55907",
   "metadata": {
    "scrolled": true,
    "tags": []
   },
   "outputs": [
    {
     "name": "stdout",
     "output_type": "stream",
     "text": [
      "1st value: 6.0, type: <class 'float'>\n",
      "2nd value: 3.145, type: <class 'float'>\n"
     ]
    }
   ],
   "source": [
    "my_float = float(my_int)\n",
    "print(f\"1st value: {my_float}, type: {type(my_float)}\")\n",
    "\n",
    "my_2nd_float = 3.145\n",
    "print(f\"2nd value: {my_2nd_float}, type: {type(my_2nd_float)}\")"
   ]
  },
  {
   "cell_type": "markdown",
   "id": "0452be2e-d400-4c41-990a-eae8511c8648",
   "metadata": {},
   "source": [
    "Note that division of `int`s produces `float`:"
   ]
  },
  {
   "cell_type": "code",
   "execution_count": 7,
   "id": "aec6e9d2-d708-4932-97f6-0547b518e04c",
   "metadata": {},
   "outputs": [
    {
     "name": "stdout",
     "output_type": "stream",
     "text": [
      "1.0\n",
      "1.2\n"
     ]
    }
   ],
   "source": [
    "print(1 / 1)\n",
    "print(6 / 5)"
   ]
  },
  {
   "cell_type": "markdown",
   "id": "43696978-c68b-440e-81f3-77902e1c07c3",
   "metadata": {},
   "source": [
    "Be aware of the binary floating-point pitfalls (see [Decimal](#decimal) for workaround):"
   ]
  },
  {
   "cell_type": "code",
   "execution_count": 19,
   "id": "ca53a6ed-0be4-4982-8a45-479680330d17",
   "metadata": {
    "scrolled": true
   },
   "outputs": [
    {
     "name": "stdout",
     "output_type": "stream",
     "text": [
      "False\n",
      "0.30000000000000004\n"
     ]
    }
   ],
   "source": [
    "val = 0.1 + 0.1 + 0.1\n",
    "print(val == 0.3)\n",
    "print(val)"
   ]
  },
  {
   "cell_type": "markdown",
   "id": "56f25cfc-865b-415f-b466-9e196af4cec7",
   "metadata": {},
   "source": [
    "## `complex`"
   ]
  },
  {
   "cell_type": "markdown",
   "id": "e4c2c48b-59d3-47ff-b1d3-5b81672f4880",
   "metadata": {},
   "source": [
    "Complex numbers are written in the form, $ x + yj $, where $ x $ is the real part and $ y $ is the imaginary part. Here are some examples:"
   ]
  },
  {
   "cell_type": "code",
   "execution_count": 26,
   "id": "590872ea-1e56-4568-b767-afe7e8fd480c",
   "metadata": {},
   "outputs": [
    {
     "name": "stdout",
     "output_type": "stream",
     "text": [
      "Complex value: (3+4j), type: <class 'complex'>\n"
     ]
    }
   ],
   "source": [
    "my_complex_value = 3 + 4j\n",
    "print(f\"Complex value: {my_complex_value}, type: {type(my_complex_value)}\")"
   ]
  },
  {
   "cell_type": "code",
   "execution_count": 27,
   "id": "4f6a5f7b-c05a-46a0-929d-d839253bfdbf",
   "metadata": {},
   "outputs": [
    {
     "data": {
      "text/plain": [
       "True"
      ]
     },
     "execution_count": 27,
     "metadata": {},
     "output_type": "execute_result"
    }
   ],
   "source": [
    "my_complex_value == complex(3, 4)"
   ]
  },
  {
   "cell_type": "code",
   "execution_count": 28,
   "id": "d7eec6d9-e712-4284-8979-07e3139a8769",
   "metadata": {},
   "outputs": [
    {
     "data": {
      "text/plain": [
       "3.0"
      ]
     },
     "execution_count": 28,
     "metadata": {},
     "output_type": "execute_result"
    }
   ],
   "source": [
    "my_complex_value.real"
   ]
  },
  {
   "cell_type": "code",
   "execution_count": 29,
   "id": "1b58579e-0aba-4719-bea8-79a7401ce57e",
   "metadata": {},
   "outputs": [
    {
     "data": {
      "text/plain": [
       "4.0"
      ]
     },
     "execution_count": 29,
     "metadata": {},
     "output_type": "execute_result"
    }
   ],
   "source": [
    "my_complex_value.imag"
   ]
  },
  {
   "cell_type": "markdown",
   "id": "b58bc775-fd5f-4e61-82ad-f38451a01d6e",
   "metadata": {},
   "source": [
    "## `list`"
   ]
  },
  {
   "cell_type": "code",
   "execution_count": null,
   "id": "018800b6-b866-4ad6-981e-0cf50f99b529",
   "metadata": {},
   "outputs": [],
   "source": []
  },
  {
   "cell_type": "code",
   "execution_count": null,
   "id": "eab2f46a-ee1e-45e6-b184-42672bef9555",
   "metadata": {},
   "outputs": [],
   "source": []
  },
  {
   "cell_type": "markdown",
   "id": "114fe5da-1e05-42f3-83f2-17ae40b079fc",
   "metadata": {},
   "source": [
    "## `tuple`"
   ]
  },
  {
   "cell_type": "code",
   "execution_count": null,
   "id": "a3a68653-255b-4ac5-9c78-88b8f41347e2",
   "metadata": {},
   "outputs": [],
   "source": []
  },
  {
   "cell_type": "code",
   "execution_count": null,
   "id": "d5d5b920-ab7e-4573-93d5-a9c4961ee127",
   "metadata": {},
   "outputs": [],
   "source": []
  },
  {
   "cell_type": "markdown",
   "id": "130a0aa4-6841-47fc-93ae-aed0c3c2a9fb",
   "metadata": {},
   "source": [
    "## `range`"
   ]
  },
  {
   "cell_type": "code",
   "execution_count": null,
   "id": "b2e8d949-bc92-4c99-acbc-6fa7ce67044f",
   "metadata": {},
   "outputs": [],
   "source": []
  },
  {
   "cell_type": "code",
   "execution_count": null,
   "id": "011fafe3-efd5-407a-b5b5-937b5720de0d",
   "metadata": {},
   "outputs": [],
   "source": []
  },
  {
   "cell_type": "markdown",
   "id": "d71471e5-c336-4638-9fa5-a9e90e3033d2",
   "metadata": {},
   "source": [
    "## `set`"
   ]
  },
  {
   "cell_type": "code",
   "execution_count": null,
   "id": "7f6d1b2d-e5f3-4fbd-8c66-dbcfd6a5cd01",
   "metadata": {},
   "outputs": [],
   "source": []
  }
 ],
 "metadata": {
  "kernelspec": {
   "display_name": "Python 3",
   "language": "python",
   "name": "python3"
  },
  "language_info": {
   "codemirror_mode": {
    "name": "ipython",
    "version": 3
   },
   "file_extension": ".py",
   "mimetype": "text/x-python",
   "name": "python",
   "nbconvert_exporter": "python",
   "pygments_lexer": "ipython3",
   "version": "3.7.7"
  }
 },
 "nbformat": 4,
 "nbformat_minor": 5
}
