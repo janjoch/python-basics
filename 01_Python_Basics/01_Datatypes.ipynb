{
 "cells": [
  {
   "cell_type": "markdown",
   "id": "a2aa8c47-36e9-4c02-a4e9-bf59bc71f565",
   "metadata": {},
   "source": [
    "# Python Datatypes and Variables"
   ]
  },
  {
   "cell_type": "markdown",
   "id": "ca90c1d5-caec-4fc4-a11b-a5d2a478859b",
   "metadata": {},
   "source": [
    "Everything in Python is an **object** and every object in Python has a **type**.  Python has the following data types built-in by default, in these categories:\n",
    "\n",
    "\n",
    "Text Type:\n",
    "- **`str`** (string; a sequence of characters enclosed in single quotes, double quotes, or triple quotes)\n",
    "\n",
    "\n",
    "Numeric Types:\n",
    "- **`int`** (integer; a whole number with no decimal place e.g. 10)\n",
    "- **`float`** (float; a number that has a decimal place e.g. 3.14)\n",
    "- **`complex`**\n",
    "\n",
    "\n",
    "Sequence Types:\n",
    "- **`list`**\n",
    "- **`tuple`**\n",
    "- **`range`**\n",
    "\n",
    "\n",
    "Mapping Type:\n",
    "- **`dict`**\n",
    "\n",
    "\n",
    "Set Types: \n",
    "- **`set`**\n",
    "- **`frozenset`**\n",
    "\n",
    "Boolean Type:\n",
    "- **`bool`** (boolean; a binary value that is either True or False)\n",
    "\n",
    "\n",
    "Binary Types:\n",
    "- **`bytes`**\n",
    "- **`bytearray`**\n",
    "- **`memoryview`**\n",
    "\n",
    "None Type:\n",
    "- **`NoneType`** (a special type representing the absence of a value)\n",
    "\n",
    "\n",
    "In Python, a **variable** is a name you specify in your code that maps to a particular **object**, object **instance**, or value.\n",
    "\n",
    "By defining variables, we can refer to things by names that make sense to us. Names for variables can only contain letters, underscores (`_`), or numbers (no spaces, dashes, or other characters). Variable names must start with a letter or underscore.\n",
    "\n",
    "<hr>"
   ]
  },
  {
   "cell_type": "markdown",
   "id": "f1755644-cacc-4791-b69e-290e4f103891",
   "metadata": {},
   "source": [
    "## `int`"
   ]
  },
  {
   "cell_type": "code",
   "execution_count": 6,
   "id": "6183106d-fb63-4c28-8cba-85ebc80dc5b1",
   "metadata": {},
   "outputs": [
    {
     "name": "stdout",
     "output_type": "stream",
     "text": [
      "1st value: 6, type: <class 'int'>\n",
      "1st value: 5, type: <class 'int'>\n"
     ]
    }
   ],
   "source": [
    "my_int = 6\n",
    "print(f'1st value: {my_int}, type: {type(my_int)}')\n",
    "\n",
    "my_2nd_int = int(5.38)\n",
    "print(f'1st value: {my_2nd_int}, type: {type(my_2nd_int)}')"
   ]
  },
  {
   "cell_type": "markdown",
   "id": "7ea840a8-cdfb-49e4-82e0-eb788adc9085",
   "metadata": {},
   "source": [
    "## `float`"
   ]
  },
  {
   "cell_type": "code",
   "execution_count": 5,
   "id": "fdf2f78a-9455-4ed8-a41e-e36dc9b55907",
   "metadata": {
    "scrolled": true,
    "tags": []
   },
   "outputs": [
    {
     "name": "stdout",
     "output_type": "stream",
     "text": [
      "1st value: 6.0, type: <class 'float'>\n",
      "2nd value: 3.145, type: <class 'float'>\n"
     ]
    }
   ],
   "source": [
    "my_float = float(my_int)\n",
    "print(f'1st value: {my_float}, type: {type(my_float)}')\n",
    "\n",
    "my_2nd_float = 3.145\n",
    "print(f'2nd value: {my_2nd_float}, type: {type(my_2nd_float)}')"
   ]
  },
  {
   "cell_type": "markdown",
   "id": "0452be2e-d400-4c41-990a-eae8511c8648",
   "metadata": {},
   "source": [
    "Note that division of `int`s produces `float`:"
   ]
  },
  {
   "cell_type": "code",
   "execution_count": 7,
   "id": "aec6e9d2-d708-4932-97f6-0547b518e04c",
   "metadata": {},
   "outputs": [
    {
     "name": "stdout",
     "output_type": "stream",
     "text": [
      "1.0\n",
      "1.2\n"
     ]
    }
   ],
   "source": [
    "print(1 / 1)\n",
    "print(6 / 5)"
   ]
  },
  {
   "cell_type": "markdown",
   "id": "43696978-c68b-440e-81f3-77902e1c07c3",
   "metadata": {},
   "source": [
    "Be aware of the binary floating-point pitfalls (see [Decimal](#decimal) for workaround):"
   ]
  },
  {
   "cell_type": "code",
   "execution_count": 8,
   "id": "ca53a6ed-0be4-4982-8a45-479680330d17",
   "metadata": {
    "scrolled": true
   },
   "outputs": [
    {
     "name": "stdout",
     "output_type": "stream",
     "text": [
      "False\n",
      "0.30000000000000004\n"
     ]
    }
   ],
   "source": [
    "val = 0.1 + 0.1 + 0.1\n",
    "print(val == 0.3)\n",
    "print(val)"
   ]
  },
  {
   "cell_type": "code",
   "execution_count": null,
   "id": "082b0a72-b5a9-4755-af6d-e301d55d0a17",
   "metadata": {},
   "outputs": [],
   "source": []
  }
 ],
 "metadata": {
  "kernelspec": {
   "display_name": "Python 3 (ipykernel)",
   "language": "python",
   "name": "python3"
  },
  "language_info": {
   "codemirror_mode": {
    "name": "ipython",
    "version": 3
   },
   "file_extension": ".py",
   "mimetype": "text/x-python",
   "name": "python",
   "nbconvert_exporter": "python",
   "pygments_lexer": "ipython3",
   "version": "3.7.9"
  }
 },
 "nbformat": 4,
 "nbformat_minor": 5
}
