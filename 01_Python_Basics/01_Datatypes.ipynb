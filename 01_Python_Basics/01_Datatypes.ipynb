{
 "cells": [
  {
   "cell_type": "markdown",
   "id": "a2aa8c47-36e9-4c02-a4e9-bf59bc71f565",
   "metadata": {},
   "source": [
    "# Python Variables, Datatypes and Datastructures"
   ]
  },
  {
   "cell_type": "markdown",
   "id": "efe9dce0-a34a-4323-b033-3bfa4104bf38",
   "metadata": {},
   "source": [
    "## Variables\n",
    "In Python, a **variable** is a name you specify in your code that maps to a particular **object**, object **instance**, or value.\n",
    "\n",
    "By defining variables, we can refer to things by names that make sense to us. Names for variables can only contain letters, underscores (`_`), or numbers (no spaces, dashes, or other characters). Variable names must start with a letter or underscore.\n",
    "\n"
   ]
  },
  {
   "cell_type": "code",
   "execution_count": 3,
   "id": "75153fcb-86fe-41c8-81fd-e8de7c0a8c51",
   "metadata": {},
   "outputs": [
    {
     "name": "stdout",
     "output_type": "stream",
     "text": [
      "my_variable1: 1 adn my_variable2: store this in my variable2\n"
     ]
    }
   ],
   "source": [
    "my_variable1 = 1\n",
    "my_variable2 = \"store this in my variable2\"\n",
    "\n",
    "print(f\"my_variable1: {my_variable1} adn my_variable2: {my_variable2}\")"
   ]
  },
  {
   "cell_type": "markdown",
   "id": "63302bf8-f0e2-4b5d-ac5b-e39f470edbcf",
   "metadata": {},
   "source": [
    "<hr>\n",
    "<br>"
   ]
  },
  {
   "cell_type": "markdown",
   "id": "ca90c1d5-caec-4fc4-a11b-a5d2a478859b",
   "metadata": {},
   "source": [
    "## Datatypes\n",
    "Everything in Python is an **object** and every object in Python has a **type**.  Python has the following data types built-in by default, in these categories:\n",
    "\n",
    "\n",
    "Text Type:\n",
    "- **`str`** (string; a sequence of characters enclosed in single quotes, double quotes, or triple quotes)\n",
    "\n",
    "\n",
    "Numeric Types:\n",
    "- **`int`** (integer; a whole number with no decimal place e.g. 10)\n",
    "- **`float`** (float; a number that has a decimal place e.g. 3.14)\n",
    "- **`complex`** (complex; $ x + yj $, where $ x $ is the real part and $ y $ is the imaginary part)\n",
    "\n",
    "\n",
    "None Type:\n",
    "- **`NoneType`** (a special type representing the absence of a value)\n",
    "\n",
    "\n",
    "Boolean Type:\n",
    "- **`bool`** (boolean; a binary value that is either True or False)\n",
    "\n",
    "\n",
    "Binary Types (will not be discussed in detail here):\n",
    "- **`bytes`** (bytes; Bytes objects are immutable sequences of single bytes; creation: x = b\"this is a byte object\")\n",
    "- **`bytearray`** (bytearray; array of bytes)\n",
    "- **`memoryview`**\n",
    "\n",
    "\n",
    "<hr>"
   ]
  },
  {
   "cell_type": "markdown",
   "id": "7907adbb-91b8-4137-a2a1-ba2de06f7a8e",
   "metadata": {},
   "source": [
    "### `str`"
   ]
  },
  {
   "cell_type": "code",
   "execution_count": 3,
   "id": "e81b85d2-9d66-46c7-b1cb-ff26d2f30eea",
   "metadata": {},
   "outputs": [
    {
     "name": "stdout",
     "output_type": "stream",
     "text": [
      "Python is my favorite programming language! type: <class 'str'>\n"
     ]
    }
   ],
   "source": [
    "my_string = \"Python is my favorite programming language!\"\n",
    "print(my_string, f\"type: {type(my_string)}\")"
   ]
  },
  {
   "cell_type": "markdown",
   "id": "790942c8-53fb-494f-9cf6-bf65b4224209",
   "metadata": {},
   "source": [
    "#### Respecting PEP8 with long strings"
   ]
  },
  {
   "cell_type": "code",
   "execution_count": 5,
   "id": "bab1893e-6b80-483c-89e7-806f3d7e4745",
   "metadata": {},
   "outputs": [],
   "source": [
    "long_story = (\n",
    "    \"Lorem ipsum dolor sit amet, consectetur adipiscing elit.\"\n",
    "    \"Pellentesque eget tincidunt felis. Ut ac vestibulum est.\"\n",
    "    \"In sed ipsum sit amet sapien scelerisque bibendum. Sed \"\n",
    "    \"sagittis purus eu diam fermentum pellentesque.\"\n",
    ")"
   ]
  },
  {
   "cell_type": "markdown",
   "id": "4e4fd967-2ada-4034-a348-cc9a2982c2fd",
   "metadata": {},
   "source": [
    "#### `str` methods and attributes\n",
    "Different types of objects in Python have different attributes that can be referred to by name (similar to a variable). To access an attribute of an object, use a dot (.) after the object, then specify the attribute (i.e. obj.attribute)\n",
    "\n",
    "When an attribute of an object is a callable, that attribute is called a **method**. It is the same as a function, only this function is bound to a particular object.\n",
    "\n",
    "When an attribute of an object is not a callable, that attribute is called a **property**. It is just a piece of data about the object, that is itself another object.\n",
    "\n",
    "Here are some methods on `str` types:\n",
    "\n",
    "* `.capitalize()` to return a capitalized version of the string (only first char uppercase)\n",
    "* `.upper()` to return an uppercase version of the string (all chars uppercase)\n",
    "* `.lower()` to return an lowercase version of the string (all chars lowercase)\n",
    "* `.count(substring)` to return the number of occurences of the substring in the string\n",
    "* `.startswith(substring)` to determine if the string starts with the substring\n",
    "* `.endswith(substring)` to determine if the string ends with the substring\n",
    "* `.replace(old, new)` to return a copy of the string with occurences of the \"old\" replaced by \"n* `"
   ]
  },
  {
   "cell_type": "code",
   "execution_count": 8,
   "id": "d32a7708-c88c-4717-8587-2e694e87f285",
   "metadata": {},
   "outputs": [],
   "source": [
    "# Assign a string to a variable\n",
    "a_string = \"tHis is a sTriNg\""
   ]
  },
  {
   "cell_type": "code",
   "execution_count": 9,
   "id": "5ac79580-6b2d-4179-88a3-72513828599e",
   "metadata": {},
   "outputs": [
    {
     "data": {
      "text/plain": [
       "'This is a string'"
      ]
     },
     "execution_count": 9,
     "metadata": {},
     "output_type": "execute_result"
    }
   ],
   "source": [
    "# Return a capitalized version of the string\n",
    "a_string.capitalize()"
   ]
  },
  {
   "cell_type": "code",
   "execution_count": 10,
   "id": "9e6dd169-c72f-409b-85c7-b0fe8f1af246",
   "metadata": {},
   "outputs": [
    {
     "data": {
      "text/plain": [
       "'THIS IS A STRING'"
      ]
     },
     "execution_count": 10,
     "metadata": {},
     "output_type": "execute_result"
    }
   ],
   "source": [
    "# Return an uppercase version of the string\n",
    "a_string.upper()"
   ]
  },
  {
   "cell_type": "code",
   "execution_count": 11,
   "id": "c0712fd4-af5e-492d-a35f-8f5c9d1c8b55",
   "metadata": {},
   "outputs": [
    {
     "data": {
      "text/plain": [
       "'this is a string'"
      ]
     },
     "execution_count": 11,
     "metadata": {},
     "output_type": "execute_result"
    }
   ],
   "source": [
    "# Return a lowercase version of the string\n",
    "a_string.lower()"
   ]
  },
  {
   "cell_type": "code",
   "execution_count": 12,
   "id": "d63acf2e-98fe-471b-95bb-0bcdcf001669",
   "metadata": {},
   "outputs": [
    {
     "data": {
      "text/plain": [
       "'tHis is a sTriNg'"
      ]
     },
     "execution_count": 12,
     "metadata": {},
     "output_type": "execute_result"
    }
   ],
   "source": [
    "# Notice that the methods called have not actually modified the string\n",
    "a_string"
   ]
  },
  {
   "cell_type": "code",
   "execution_count": 13,
   "id": "84778373-a5bc-4a1d-9a59-e71e1068c0ef",
   "metadata": {},
   "outputs": [
    {
     "data": {
      "text/plain": [
       "3"
      ]
     },
     "execution_count": 13,
     "metadata": {},
     "output_type": "execute_result"
    }
   ],
   "source": [
    "# Count number of occurences of a substring in the string\n",
    "a_string.count(\"i\")"
   ]
  },
  {
   "cell_type": "code",
   "execution_count": 14,
   "id": "ed2313db-e0fb-4ffb-9b0b-c12aafed6e2a",
   "metadata": {},
   "outputs": [
    {
     "data": {
      "text/plain": [
       "False"
      ]
     },
     "execution_count": 14,
     "metadata": {},
     "output_type": "execute_result"
    }
   ],
   "source": [
    "# Does the string start with 'this'?\n",
    "a_string.startswith(\"this\")"
   ]
  },
  {
   "cell_type": "code",
   "execution_count": 15,
   "id": "3bd62473-97f6-4736-ae1b-a05c78197062",
   "metadata": {},
   "outputs": [
    {
     "data": {
      "text/plain": [
       "True"
      ]
     },
     "execution_count": 15,
     "metadata": {},
     "output_type": "execute_result"
    }
   ],
   "source": [
    "# Does the lowercase string start with 'this'?\n",
    "a_string.lower().startswith(\"this\")"
   ]
  },
  {
   "cell_type": "code",
   "execution_count": 16,
   "id": "1330add4-eac2-4ccb-8c6e-ef250e9417c3",
   "metadata": {},
   "outputs": [
    {
     "data": {
      "text/plain": [
       "'tHXYZ XYZ a sTriNg'"
      ]
     },
     "execution_count": 16,
     "metadata": {},
     "output_type": "execute_result"
    }
   ],
   "source": [
    "# Return a version of the string with a substring replaced with something else\n",
    "a_string.replace(\"is\", \"XYZ\")"
   ]
  },
  {
   "cell_type": "code",
   "execution_count": 22,
   "id": "a3995f26-bfd8-4f0c-bb3b-042cdb116da6",
   "metadata": {},
   "outputs": [
    {
     "name": "stdout",
     "output_type": "stream",
     "text": [
      "this looks good\n"
     ]
    }
   ],
   "source": [
    "ugly_mixed_case = \"   ThIS LooKs BAd \"\n",
    "pretty = ugly_mixed_case.strip().lower().replace(\"bad\", \"good\")\n",
    "print(pretty)"
   ]
  },
  {
   "cell_type": "code",
   "execution_count": 23,
   "id": "90681125-6658-49fd-9dcd-0ce91eee9277",
   "metadata": {},
   "outputs": [
    {
     "name": "stdout",
     "output_type": "stream",
     "text": [
      "First line\n",
      "Second line\n"
     ]
    }
   ],
   "source": [
    "two_lines = \"First line\\nSecond line\"\n",
    "print(two_lines)"
   ]
  },
  {
   "cell_type": "markdown",
   "id": "a5e45423-fc05-4367-ad16-558a754b0a51",
   "metadata": {},
   "source": [
    "<hr>"
   ]
  },
  {
   "cell_type": "markdown",
   "id": "f1755644-cacc-4791-b69e-290e4f103891",
   "metadata": {},
   "source": [
    "### `int`"
   ]
  },
  {
   "cell_type": "code",
   "execution_count": 17,
   "id": "6183106d-fb63-4c28-8cba-85ebc80dc5b1",
   "metadata": {},
   "outputs": [
    {
     "name": "stdout",
     "output_type": "stream",
     "text": [
      "1st value: 6, type: <class 'int'>\n",
      "1st value: 5, type: <class 'int'>\n"
     ]
    }
   ],
   "source": [
    "my_int = 6\n",
    "print(f\"1st value: {my_int}, type: {type(my_int)}\")\n",
    "\n",
    "my_2nd_int = int(5.38)\n",
    "print(f\"2st value: {my_2nd_int}, type: {type(my_2nd_int)}\")"
   ]
  },
  {
   "cell_type": "markdown",
   "id": "ad6cb226-6374-4728-9fce-2c30272cbb3b",
   "metadata": {},
   "source": [
    "<hr>"
   ]
  },
  {
   "cell_type": "markdown",
   "id": "7ea840a8-cdfb-49e4-82e0-eb788adc9085",
   "metadata": {},
   "source": [
    "### `float`"
   ]
  },
  {
   "cell_type": "code",
   "execution_count": 5,
   "id": "fdf2f78a-9455-4ed8-a41e-e36dc9b55907",
   "metadata": {
    "scrolled": true,
    "tags": []
   },
   "outputs": [
    {
     "name": "stdout",
     "output_type": "stream",
     "text": [
      "1st value: 6.0, type: <class 'float'>\n",
      "2nd value: 3.145, type: <class 'float'>\n"
     ]
    }
   ],
   "source": [
    "my_float = float(my_int)\n",
    "print(f\"1st value: {my_float}, type: {type(my_float)}\")\n",
    "\n",
    "my_2nd_float = 3.145\n",
    "print(f\"2nd value: {my_2nd_float}, type: {type(my_2nd_float)}\")"
   ]
  },
  {
   "cell_type": "markdown",
   "id": "0452be2e-d400-4c41-990a-eae8511c8648",
   "metadata": {},
   "source": [
    "Note that division of `int`s produces `float`:"
   ]
  },
  {
   "cell_type": "code",
   "execution_count": 7,
   "id": "aec6e9d2-d708-4932-97f6-0547b518e04c",
   "metadata": {},
   "outputs": [
    {
     "name": "stdout",
     "output_type": "stream",
     "text": [
      "1.0\n",
      "1.2\n"
     ]
    }
   ],
   "source": [
    "print(1 / 1)\n",
    "print(6 / 5)"
   ]
  },
  {
   "cell_type": "markdown",
   "id": "43696978-c68b-440e-81f3-77902e1c07c3",
   "metadata": {},
   "source": [
    "Be aware of the binary floating-point pitfalls (see [Decimal](#decimal) for workaround):"
   ]
  },
  {
   "cell_type": "code",
   "execution_count": 19,
   "id": "ca53a6ed-0be4-4982-8a45-479680330d17",
   "metadata": {
    "scrolled": true
   },
   "outputs": [
    {
     "name": "stdout",
     "output_type": "stream",
     "text": [
      "False\n",
      "0.30000000000000004\n"
     ]
    }
   ],
   "source": [
    "val = 0.1 + 0.1 + 0.1\n",
    "print(val == 0.3)\n",
    "print(val)"
   ]
  },
  {
   "cell_type": "markdown",
   "id": "236b51f7-5386-4ffb-8574-c18dd61ab4a8",
   "metadata": {},
   "source": [
    "<hr>"
   ]
  },
  {
   "cell_type": "markdown",
   "id": "56f25cfc-865b-415f-b466-9e196af4cec7",
   "metadata": {},
   "source": [
    "### `complex`"
   ]
  },
  {
   "cell_type": "markdown",
   "id": "e4c2c48b-59d3-47ff-b1d3-5b81672f4880",
   "metadata": {},
   "source": [
    "Complex numbers are written in the form, $ x + yj $, where $ x $ is the real part and $ y $ is the imaginary part. Here are some examples:"
   ]
  },
  {
   "cell_type": "code",
   "execution_count": 1,
   "id": "590872ea-1e56-4568-b767-afe7e8fd480c",
   "metadata": {},
   "outputs": [
    {
     "name": "stdout",
     "output_type": "stream",
     "text": [
      "Complex value: (3+4j), type: <class 'complex'>\n"
     ]
    }
   ],
   "source": [
    "my_complex_value = 3 + 4j\n",
    "print(f\"Complex value: {my_complex_value}, type: {type(my_complex_value)}\")"
   ]
  },
  {
   "cell_type": "code",
   "execution_count": 27,
   "id": "4f6a5f7b-c05a-46a0-929d-d839253bfdbf",
   "metadata": {},
   "outputs": [
    {
     "data": {
      "text/plain": [
       "True"
      ]
     },
     "execution_count": 27,
     "metadata": {},
     "output_type": "execute_result"
    }
   ],
   "source": [
    "my_complex_value == complex(3, 4)"
   ]
  },
  {
   "cell_type": "code",
   "execution_count": 28,
   "id": "d7eec6d9-e712-4284-8979-07e3139a8769",
   "metadata": {},
   "outputs": [
    {
     "data": {
      "text/plain": [
       "3.0"
      ]
     },
     "execution_count": 28,
     "metadata": {},
     "output_type": "execute_result"
    }
   ],
   "source": [
    "my_complex_value.real"
   ]
  },
  {
   "cell_type": "code",
   "execution_count": 29,
   "id": "1b58579e-0aba-4719-bea8-79a7401ce57e",
   "metadata": {},
   "outputs": [
    {
     "data": {
      "text/plain": [
       "4.0"
      ]
     },
     "execution_count": 29,
     "metadata": {},
     "output_type": "execute_result"
    }
   ],
   "source": [
    "my_complex_value.imag"
   ]
  },
  {
   "cell_type": "markdown",
   "id": "5b12884f-c42d-4b2e-8ab8-d74bc7220710",
   "metadata": {},
   "source": [
    "### `None`"
   ]
  },
  {
   "cell_type": "code",
   "execution_count": 5,
   "id": "60b23d2b-3bb4-454d-b4bf-4ef1582aa9c6",
   "metadata": {},
   "outputs": [
    {
     "name": "stdout",
     "output_type": "stream",
     "text": [
      "This is my nonetype: 'None'\n"
     ]
    }
   ],
   "source": [
    "nonetype = None\n",
    "print(f\"This is my nonetype: '{nonetype}'\")"
   ]
  },
  {
   "cell_type": "markdown",
   "id": "737746fc-a4d3-4951-bb98-fef10e0f9d94",
   "metadata": {},
   "source": [
    "### `Bool`\n",
    "\n",
    "In programming you often need to know if an expression is `True` or `False`. Therefore this is an important datatype."
   ]
  },
  {
   "cell_type": "code",
   "execution_count": 13,
   "id": "d182f4ef-e4cb-4573-badf-e16b3f1bb8cc",
   "metadata": {},
   "outputs": [
    {
     "data": {
      "text/plain": [
       "(True, bool)"
      ]
     },
     "execution_count": 13,
     "metadata": {},
     "output_type": "execute_result"
    }
   ],
   "source": [
    "10 == 10, type(10 == 10)"
   ]
  },
  {
   "cell_type": "code",
   "execution_count": 9,
   "id": "9b75e786-1b32-4f8f-bc99-88264291428c",
   "metadata": {},
   "outputs": [
    {
     "data": {
      "text/plain": [
       "(False, bool)"
      ]
     },
     "execution_count": 9,
     "metadata": {},
     "output_type": "execute_result"
    }
   ],
   "source": [
    "7 <= 5, type(7 <= 5)"
   ]
  },
  {
   "cell_type": "code",
   "execution_count": 12,
   "id": "1167a8c6-3e09-41e6-aa9e-682acc24db48",
   "metadata": {},
   "outputs": [
    {
     "name": "stdout",
     "output_type": "stream",
     "text": [
      "This is a: True\n"
     ]
    }
   ],
   "source": [
    "a = True\n",
    "b = False\n",
    "\n",
    "if a:\n",
    "    print(f\"This is a: {a}\")\n",
    "    \n",
    "if b:\n",
    "    print(f\"This is b: {b}\")  # Note: this is not printed because b is NOT True"
   ]
  },
  {
   "cell_type": "markdown",
   "id": "838e192e-58e2-4e12-9c81-5c923273a250",
   "metadata": {},
   "source": [
    "<hr>\n",
    "<br>"
   ]
  },
  {
   "cell_type": "markdown",
   "id": "06e29e45-1e10-4ced-b8b0-9ab16c4b3fa1",
   "metadata": {},
   "source": [
    "## Datastructures\n",
    "\n",
    "Sequence Types:\n",
    "- **`list`** (list: mutable; indexed by integers; items are stored in the order they were added)\n",
    "- **`tuple`** (tuple: immutable; indexed by integers; items are stored in the order they were added)\n",
    "- **`range`**\n",
    "\n",
    "\n",
    "Mapping Type:\n",
    "- **`dict`** (dictionary: mutable; key-value pairs are indexed by immutable keys; items are NOT stored in the order they were added)\n",
    "\n",
    "\n",
    "Set Types: \n",
    "- **`set`** (set: mutable; not indexed at all; items are NOT stored in the order they were added; can only contain immutable objects; does NOT contain duplicate objects)\n",
    "- **`frozenset`**\n"
   ]
  },
  {
   "cell_type": "markdown",
   "id": "b58bc775-fd5f-4e61-82ad-f38451a01d6e",
   "metadata": {},
   "source": [
    "### `list`"
   ]
  },
  {
   "cell_type": "code",
   "execution_count": 17,
   "id": "018800b6-b866-4ad6-981e-0cf50f99b529",
   "metadata": {},
   "outputs": [
    {
     "name": "stdout",
     "output_type": "stream",
     "text": [
      "empty list: [], type: <class 'list'>\n"
     ]
    }
   ],
   "source": [
    "my_empty_list = []\n",
    "print(f'empty list: {my_empty_list}, type: {type(my_empty_list)}')"
   ]
  },
  {
   "cell_type": "code",
   "execution_count": 18,
   "id": "eab2f46a-ee1e-45e6-b184-42672bef9555",
   "metadata": {},
   "outputs": [
    {
     "name": "stdout",
     "output_type": "stream",
     "text": [
      "lengths: 4 and 6\n"
     ]
    }
   ],
   "source": [
    "list_of_ints = [1, 2, 6, 7]\n",
    "list_of_misc = [0.2, 5, 'Python', 'is', 'still fun', '!']\n",
    "print(f'lengths: {len(list_of_ints)} and {len(list_of_misc)}')"
   ]
  },
  {
   "cell_type": "markdown",
   "id": "f8b959dc-2b7e-4e7f-a33e-451f00ad7fa2",
   "metadata": {},
   "source": [
    "#### Accessing values"
   ]
  },
  {
   "cell_type": "code",
   "execution_count": 22,
   "id": "ae9f79f0-5563-4462-b43b-532a79aeb82f",
   "metadata": {},
   "outputs": [
    {
     "name": "stdout",
     "output_type": "stream",
     "text": [
      "Python\n",
      "cool\n"
     ]
    }
   ],
   "source": [
    "my_list = ['Python', 'is', 'still', 'cool']\n",
    "print(my_list[0])\n",
    "print(my_list[3])"
   ]
  },
  {
   "cell_type": "code",
   "execution_count": 25,
   "id": "fe58c696-867c-40c8-be7e-3721f26feb36",
   "metadata": {},
   "outputs": [
    {
     "name": "stdout",
     "output_type": "stream",
     "text": [
      "first coordinate: [12.0, 13.3]\n",
      "second element of first coordinate: 13.3\n"
     ]
    }
   ],
   "source": [
    "coordinates = [[12.0, 13.3], [0.6, 18.0], [88.0, 1.1]]  # two dimensional\n",
    "print(f'first coordinate: {coordinates[0]}')\n",
    "print(f'second element of first coordinate: {coordinates[0][1]}')"
   ]
  },
  {
   "cell_type": "markdown",
   "id": "ec039d7b-5e5c-4db6-9812-c4ff479895c5",
   "metadata": {},
   "source": [
    "#### Updating values"
   ]
  },
  {
   "cell_type": "code",
   "execution_count": 26,
   "id": "adde3f7b-d9a7-4220-8ff1-ca6061d1a927",
   "metadata": {},
   "outputs": [
    {
     "name": "stdout",
     "output_type": "stream",
     "text": [
      "[99, 1, 2, 3, 4, 5]\n",
      "[1, 2, 3, 4, 5]\n"
     ]
    }
   ],
   "source": [
    "my_list = [0, 1, 2, 3, 4, 5]\n",
    "my_list[0] = 99\n",
    "print(my_list)\n",
    "\n",
    "# remove first value\n",
    "del my_list[0]\n",
    "print(my_list)"
   ]
  },
  {
   "cell_type": "markdown",
   "id": "9d26c30e-f494-469c-87f7-e9655ce6bc38",
   "metadata": {},
   "source": [
    "#### Checking if certain value is present in list"
   ]
  },
  {
   "cell_type": "code",
   "execution_count": 27,
   "id": "fc4f41f5-5d4a-4814-ad53-0aec653bd98f",
   "metadata": {},
   "outputs": [
    {
     "name": "stdout",
     "output_type": "stream",
     "text": [
      "Python is there!\n"
     ]
    }
   ],
   "source": [
    "languages = ['Java', 'C++', 'Go', 'Python', 'JavaScript']\n",
    "if 'Python' in languages:\n",
    "    print('Python is there!')"
   ]
  },
  {
   "cell_type": "code",
   "execution_count": 28,
   "id": "9108681a-10ee-4b86-8d46-389fd518b7a8",
   "metadata": {},
   "outputs": [
    {
     "name": "stdout",
     "output_type": "stream",
     "text": [
      "number 6 is not present\n"
     ]
    }
   ],
   "source": [
    "if 6 not in [1, 2, 3, 7]:\n",
    "    print('number 6 is not present')"
   ]
  },
  {
   "cell_type": "markdown",
   "id": "1a76c2bf-a42f-4b5f-ae57-7828723d4e41",
   "metadata": {},
   "source": [
    "#### List are mutable"
   ]
  },
  {
   "cell_type": "code",
   "execution_count": 32,
   "id": "c02578ee-4e3e-42bc-9e60-16dd0f6625f9",
   "metadata": {},
   "outputs": [],
   "source": [
    "original = [1, 2, 3]\n",
    "modified = original\n",
    "modified[0] = 99"
   ]
  },
  {
   "cell_type": "markdown",
   "id": "10dcc0e3-3505-4ff4-94f4-4d62a16097a5",
   "metadata": {},
   "source": [
    "You can get around this by creating new list:"
   ]
  },
  {
   "cell_type": "code",
   "execution_count": 33,
   "id": "740c5e36-552f-4a0d-af27-5719334ac278",
   "metadata": {},
   "outputs": [
    {
     "name": "stdout",
     "output_type": "stream",
     "text": [
      "original: [1, 2, 3], modified: [99, 2, 3]\n"
     ]
    }
   ],
   "source": [
    "original = [1, 2, 3]\n",
    "modified = list(original)  # Note list(); Alternatively, you can use copy method --> modified = original.copy()\n",
    "modified[0] = 99\n",
    "print(f'original: {original}, modified: {modified}')"
   ]
  },
  {
   "cell_type": "markdown",
   "id": "f0a5d0eb-b2c6-4618-a0ed-4b2e3c857a56",
   "metadata": {},
   "source": [
    "#### `list` methods\n",
    "\n",
    "* `.append(item)`  to add a single item to the list\n",
    "* `.extend([item1, item2, ...])` to add multiple items to the list\n",
    "* `.remove(item)` to remove a single item from the list\n",
    "* `.pop()` to remove and return the item at the end of the list\n",
    "* `.pop(index)`  to remove and return an item at an index\n",
    "* `.sort()` to sort the list\n",
    "* `.reverse()` to reverse the list\n",
    "* `.copy()` to create a copy of the list"
   ]
  },
  {
   "cell_type": "code",
   "execution_count": 34,
   "id": "57e8f857-b95a-4008-95ef-b6ddf218953b",
   "metadata": {},
   "outputs": [
    {
     "name": "stdout",
     "output_type": "stream",
     "text": [
      "[1, 'ham']\n"
     ]
    }
   ],
   "source": [
    "my_list = [1]\n",
    "my_list.append('ham')\n",
    "print(my_list)"
   ]
  },
  {
   "cell_type": "code",
   "execution_count": 35,
   "id": "2d84cd98-b6cc-4f2b-9933-b356a7cbe892",
   "metadata": {},
   "outputs": [
    {
     "name": "stdout",
     "output_type": "stream",
     "text": [
      "['Python', 'is', 'fun']\n",
      "Java is not part of this story.\n"
     ]
    }
   ],
   "source": [
    "my_list = ['Python', 'is', 'sometimes', 'fun']\n",
    "my_list.remove('sometimes')\n",
    "print(my_list)\n",
    "\n",
    "# If you are not sure that the value is in list, better to check first:\n",
    "if 'Java' in my_list:\n",
    "    my_list.remove('Java')\n",
    "else:\n",
    "    print('Java is not part of this story.')"
   ]
  },
  {
   "cell_type": "code",
   "execution_count": 39,
   "id": "978a0aca-c4be-4f98-ac19-6ed5c343800d",
   "metadata": {},
   "outputs": [
    {
     "name": "stdout",
     "output_type": "stream",
     "text": [
      "numbers: [1, 5, 6, 8, 10]\n",
      "numbers reversed: [10, 8, 6, 5, 1]\n",
      "words: ['a', 'is', 'list', 'of', 'this', 'words']\n"
     ]
    }
   ],
   "source": [
    "numbers = [8, 1, 6, 5, 10]\n",
    "numbers.sort()\n",
    "print(f'numbers: {numbers}')\n",
    "\n",
    "numbers.sort(reverse=True)\n",
    "print(f'numbers reversed: {numbers}')\n",
    "\n",
    "words = ['this', 'is', 'a', 'list', 'of', 'words']\n",
    "words.sort()\n",
    "print(f'words: {words}')"
   ]
  },
  {
   "cell_type": "code",
   "execution_count": 41,
   "id": "ac2ca71a-0df9-484f-ab0c-7e30f238faf1",
   "metadata": {},
   "outputs": [
    {
     "name": "stdout",
     "output_type": "stream",
     "text": [
      "first: ['beef', 'ham', 'potatoes', 1, 3], second: ['potatoes', 1, 3]\n"
     ]
    }
   ],
   "source": [
    "first_list = ['beef', 'ham']\n",
    "second_list = ['potatoes',1 ,3]\n",
    "first_list.extend(second_list)\n",
    "print(f'first: {first_list}, second: {second_list}')"
   ]
  },
  {
   "cell_type": "markdown",
   "id": "1ae64fdd-0a1b-4ebc-a927-622a9f55cc47",
   "metadata": {},
   "source": [
    "Alternatively you can also extend lists by summing them:"
   ]
  },
  {
   "cell_type": "code",
   "execution_count": 42,
   "id": "d3f08a51-bb71-465f-a9b4-1c4b595d1a0e",
   "metadata": {},
   "outputs": [
    {
     "name": "stdout",
     "output_type": "stream",
     "text": [
      "first: [1, 2, 3, 4, 5]\n"
     ]
    }
   ],
   "source": [
    "first = [1, 2, 3]\n",
    "second = [4, 5]\n",
    "first += second  # same as: first = first + second\n",
    "print(f'first: {first}')"
   ]
  },
  {
   "cell_type": "code",
   "execution_count": 43,
   "id": "933eb653-8991-471b-80d0-312c268b39eb",
   "metadata": {},
   "outputs": [
    {
     "name": "stdout",
     "output_type": "stream",
     "text": [
      "['ham', 'b', 'a']\n"
     ]
    }
   ],
   "source": [
    "my_list = ['a', 'b', 'ham']\n",
    "my_list.reverse()\n",
    "print(my_list)"
   ]
  },
  {
   "cell_type": "markdown",
   "id": "114fe5da-1e05-42f3-83f2-17ae40b079fc",
   "metadata": {},
   "source": [
    "### `tuple`"
   ]
  },
  {
   "cell_type": "code",
   "execution_count": null,
   "id": "a3a68653-255b-4ac5-9c78-88b8f41347e2",
   "metadata": {},
   "outputs": [],
   "source": []
  },
  {
   "cell_type": "code",
   "execution_count": null,
   "id": "d5d5b920-ab7e-4573-93d5-a9c4961ee127",
   "metadata": {},
   "outputs": [],
   "source": []
  },
  {
   "cell_type": "markdown",
   "id": "130a0aa4-6841-47fc-93ae-aed0c3c2a9fb",
   "metadata": {},
   "source": [
    "### `range`"
   ]
  },
  {
   "cell_type": "code",
   "execution_count": null,
   "id": "b2e8d949-bc92-4c99-acbc-6fa7ce67044f",
   "metadata": {},
   "outputs": [],
   "source": []
  },
  {
   "cell_type": "code",
   "execution_count": null,
   "id": "011fafe3-efd5-407a-b5b5-937b5720de0d",
   "metadata": {},
   "outputs": [],
   "source": []
  },
  {
   "cell_type": "markdown",
   "id": "d71471e5-c336-4638-9fa5-a9e90e3033d2",
   "metadata": {},
   "source": [
    "### `set`"
   ]
  },
  {
   "cell_type": "code",
   "execution_count": null,
   "id": "7f6d1b2d-e5f3-4fbd-8c66-dbcfd6a5cd01",
   "metadata": {},
   "outputs": [],
   "source": []
  }
 ],
 "metadata": {
  "kernelspec": {
   "display_name": "Python 3",
   "language": "python",
   "name": "python3"
  },
  "language_info": {
   "codemirror_mode": {
    "name": "ipython",
    "version": 3
   },
   "file_extension": ".py",
   "mimetype": "text/x-python",
   "name": "python",
   "nbconvert_exporter": "python",
   "pygments_lexer": "ipython3",
   "version": "3.7.7"
  }
 },
 "nbformat": 4,
 "nbformat_minor": 5
}
