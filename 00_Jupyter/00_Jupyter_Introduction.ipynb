{
 "cells": [
  {
   "cell_type": "markdown",
   "id": "5b85bf72-2fb8-4bb2-bd48-7baca717c804",
   "metadata": {},
   "source": [
    "# Introduction to Jupyter LAB and Notebooks"
   ]
  },
  {
   "cell_type": "markdown",
   "id": "ee1923d6-e7e1-4551-ab81-70976c91cd2f",
   "metadata": {},
   "source": [
    "JupyterLab enables you to work with documents and activities such as Jupyter notebooks, text editors, terminals, and custom components in a flexible, integrated, and extensible manner. \n",
    "\n",
    "**It's perfect to start with Python and Data Science**\n",
    "\n",
    "A Jupyter notebook extends the console-based approach to interactive computing in a qualitatively new direction, providing a web-based application suitable for capturing the whole computation process: developing, documenting, and executing code, as well as communicating the results. The Jupyter notebook combines two components:\n",
    "\n",
    "**A web application:** a browser-based tool for interactive authoring of documents which combine explanatory text, mathematics, computations and their rich media output.\n",
    "\n",
    "**Notebook documents:** a representation of all content visible in the web application, including inputs and outputs of the computations, explanatory text, mathematics, images, and rich media representations of obje\n",
    "\n"
   ]
  },
  {
   "cell_type": "markdown",
   "id": "bb6a1656-2619-41e4-be47-e952e38d0444",
   "metadata": {},
   "source": [
    "## References\n",
    "\n",
    "* https://jupyterlab.readthedocs.io\n",
    "* https://jupyter-notebook.readthedocs.io/en/latest/notebook.html\n"
   ]
  },
  {
   "cell_type": "markdown",
   "id": "c3e2ae79-eb31-4155-8387-176e22c8502a",
   "metadata": {},
   "source": [
    "## Jupyter cells\n",
    "\n",
    "When you are editing a cell in Jupyter notebook, you need to re-run the cell by pressing `<Shift> + <Enter>`. This will allow changes you made to be available to other cells.\n",
    "\n",
    "Use `<Enter>` to make new lines inside a cell you are editing.\n",
    "\n",
    "#### Code cells\n",
    "\n",
    "Re-running will execute any statements you have written. To edit an existing code cell, click on it.\n",
    "\n",
    "#### Markdown cells\n",
    "\n",
    "Re-running will render the markdown text. To edit an existing markdown cell, double-click on it.m"
   ]
  },
  {
   "cell_type": "markdown",
   "id": "0e06fa62-0609-47b8-a83b-8ec024346bc3",
   "metadata": {},
   "source": [
    "## Common Jupyter operations,\n",
    "Near the top of the Jupyter notebook window, there are a row of menu options (`File`, `Edit`, `View`, `Run`, ...) and a row of tool bar icons (disk, plus sign, scissors, 2 files, clipboard and file, up arrow, ...),\n",
    "\n",
    "#### Inserting and removing cells,\n",
    "- Use the \\\"plus sign\\\" icon or or just hit `b` on the keyboard to insert a cell below the currently selected cell\n",
    "- Hit `a` on the keyboard to insert a cell above\n",
    "- Double hit `d` on the keyboard to delete the selected cell\n",
    "\n",
    "\n",
    "#### Clear the output of all cells,\n",
    "- Use \\\"Kernel\\\" -> \\\"Restart\\\" from the menu to restart the kernel\\\n",
    "- click on \\\"clear all outputs & restart\\\" to have all the output cleared,\n"
   ]
  },
  {
   "cell_type": "code",
   "execution_count": null,
   "id": "02a4b8ad-0a89-40dd-a223-8483cb56fa98",
   "metadata": {},
   "outputs": [],
   "source": []
  }
 ],
 "metadata": {
  "kernelspec": {
   "display_name": "Python 3 (ipykernel)",
   "language": "python",
   "name": "python3"
  },
  "language_info": {
   "codemirror_mode": {
    "name": "ipython",
    "version": 3
   },
   "file_extension": ".py",
   "mimetype": "text/x-python",
   "name": "python",
   "nbconvert_exporter": "python",
   "pygments_lexer": "ipython3",
   "version": "3.7.9"
  }
 },
 "nbformat": 4,
 "nbformat_minor": 5
}
